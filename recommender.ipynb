{
 "cells": [
  {
   "cell_type": "code",
   "execution_count": 1,
   "metadata": {},
   "outputs": [],
   "source": [
    "import numpy as np\n",
    "import pandas as pd"
   ]
  },
  {
   "cell_type": "code",
   "execution_count": 2,
   "metadata": {},
   "outputs": [],
   "source": [
    "movies = pd.read_csv('titles.csv')\n",
    "credits = pd.read_csv('credits.csv')"
   ]
  },
  {
   "cell_type": "code",
   "execution_count": 3,
   "metadata": {},
   "outputs": [
    {
     "data": {
      "text/html": [
       "<div>\n",
       "<style scoped>\n",
       "    .dataframe tbody tr th:only-of-type {\n",
       "        vertical-align: middle;\n",
       "    }\n",
       "\n",
       "    .dataframe tbody tr th {\n",
       "        vertical-align: top;\n",
       "    }\n",
       "\n",
       "    .dataframe thead th {\n",
       "        text-align: right;\n",
       "    }\n",
       "</style>\n",
       "<table border=\"1\" class=\"dataframe\">\n",
       "  <thead>\n",
       "    <tr style=\"text-align: right;\">\n",
       "      <th></th>\n",
       "      <th>id</th>\n",
       "      <th>title</th>\n",
       "      <th>type</th>\n",
       "      <th>description</th>\n",
       "      <th>release_year</th>\n",
       "      <th>age_certification</th>\n",
       "      <th>runtime</th>\n",
       "      <th>genres</th>\n",
       "      <th>production_countries</th>\n",
       "      <th>seasons</th>\n",
       "      <th>imdb_id</th>\n",
       "      <th>imdb_score</th>\n",
       "      <th>imdb_votes</th>\n",
       "      <th>tmdb_popularity</th>\n",
       "      <th>tmdb_score</th>\n",
       "    </tr>\n",
       "  </thead>\n",
       "  <tbody>\n",
       "    <tr>\n",
       "      <th>0</th>\n",
       "      <td>ts300399</td>\n",
       "      <td>Five Came Back: The Reference Films</td>\n",
       "      <td>SHOW</td>\n",
       "      <td>This collection includes 12 World War II-era p...</td>\n",
       "      <td>1945</td>\n",
       "      <td>TV-MA</td>\n",
       "      <td>51</td>\n",
       "      <td>['documentation']</td>\n",
       "      <td>['US']</td>\n",
       "      <td>1.0</td>\n",
       "      <td>NaN</td>\n",
       "      <td>NaN</td>\n",
       "      <td>NaN</td>\n",
       "      <td>0.600</td>\n",
       "      <td>NaN</td>\n",
       "    </tr>\n",
       "    <tr>\n",
       "      <th>1</th>\n",
       "      <td>tm84618</td>\n",
       "      <td>Taxi Driver</td>\n",
       "      <td>MOVIE</td>\n",
       "      <td>A mentally unstable Vietnam War veteran works ...</td>\n",
       "      <td>1976</td>\n",
       "      <td>R</td>\n",
       "      <td>114</td>\n",
       "      <td>['drama', 'crime']</td>\n",
       "      <td>['US']</td>\n",
       "      <td>NaN</td>\n",
       "      <td>tt0075314</td>\n",
       "      <td>8.2</td>\n",
       "      <td>808582.0</td>\n",
       "      <td>40.965</td>\n",
       "      <td>8.179</td>\n",
       "    </tr>\n",
       "    <tr>\n",
       "      <th>2</th>\n",
       "      <td>tm154986</td>\n",
       "      <td>Deliverance</td>\n",
       "      <td>MOVIE</td>\n",
       "      <td>Intent on seeing the Cahulawassee River before...</td>\n",
       "      <td>1972</td>\n",
       "      <td>R</td>\n",
       "      <td>109</td>\n",
       "      <td>['drama', 'action', 'thriller', 'european']</td>\n",
       "      <td>['US']</td>\n",
       "      <td>NaN</td>\n",
       "      <td>tt0068473</td>\n",
       "      <td>7.7</td>\n",
       "      <td>107673.0</td>\n",
       "      <td>10.010</td>\n",
       "      <td>7.300</td>\n",
       "    </tr>\n",
       "    <tr>\n",
       "      <th>3</th>\n",
       "      <td>tm127384</td>\n",
       "      <td>Monty Python and the Holy Grail</td>\n",
       "      <td>MOVIE</td>\n",
       "      <td>King Arthur, accompanied by his squire, recrui...</td>\n",
       "      <td>1975</td>\n",
       "      <td>PG</td>\n",
       "      <td>91</td>\n",
       "      <td>['fantasy', 'action', 'comedy']</td>\n",
       "      <td>['GB']</td>\n",
       "      <td>NaN</td>\n",
       "      <td>tt0071853</td>\n",
       "      <td>8.2</td>\n",
       "      <td>534486.0</td>\n",
       "      <td>15.461</td>\n",
       "      <td>7.811</td>\n",
       "    </tr>\n",
       "    <tr>\n",
       "      <th>4</th>\n",
       "      <td>tm120801</td>\n",
       "      <td>The Dirty Dozen</td>\n",
       "      <td>MOVIE</td>\n",
       "      <td>12 American military prisoners in World War II...</td>\n",
       "      <td>1967</td>\n",
       "      <td>NaN</td>\n",
       "      <td>150</td>\n",
       "      <td>['war', 'action']</td>\n",
       "      <td>['GB', 'US']</td>\n",
       "      <td>NaN</td>\n",
       "      <td>tt0061578</td>\n",
       "      <td>7.7</td>\n",
       "      <td>72662.0</td>\n",
       "      <td>20.398</td>\n",
       "      <td>7.600</td>\n",
       "    </tr>\n",
       "  </tbody>\n",
       "</table>\n",
       "</div>"
      ],
      "text/plain": [
       "         id                                title   type   \n",
       "0  ts300399  Five Came Back: The Reference Films   SHOW  \\\n",
       "1   tm84618                          Taxi Driver  MOVIE   \n",
       "2  tm154986                          Deliverance  MOVIE   \n",
       "3  tm127384      Monty Python and the Holy Grail  MOVIE   \n",
       "4  tm120801                      The Dirty Dozen  MOVIE   \n",
       "\n",
       "                                         description  release_year   \n",
       "0  This collection includes 12 World War II-era p...          1945  \\\n",
       "1  A mentally unstable Vietnam War veteran works ...          1976   \n",
       "2  Intent on seeing the Cahulawassee River before...          1972   \n",
       "3  King Arthur, accompanied by his squire, recrui...          1975   \n",
       "4  12 American military prisoners in World War II...          1967   \n",
       "\n",
       "  age_certification  runtime                                       genres   \n",
       "0             TV-MA       51                            ['documentation']  \\\n",
       "1                 R      114                           ['drama', 'crime']   \n",
       "2                 R      109  ['drama', 'action', 'thriller', 'european']   \n",
       "3                PG       91              ['fantasy', 'action', 'comedy']   \n",
       "4               NaN      150                            ['war', 'action']   \n",
       "\n",
       "  production_countries  seasons    imdb_id  imdb_score  imdb_votes   \n",
       "0               ['US']      1.0        NaN         NaN         NaN  \\\n",
       "1               ['US']      NaN  tt0075314         8.2    808582.0   \n",
       "2               ['US']      NaN  tt0068473         7.7    107673.0   \n",
       "3               ['GB']      NaN  tt0071853         8.2    534486.0   \n",
       "4         ['GB', 'US']      NaN  tt0061578         7.7     72662.0   \n",
       "\n",
       "   tmdb_popularity  tmdb_score  \n",
       "0            0.600         NaN  \n",
       "1           40.965       8.179  \n",
       "2           10.010       7.300  \n",
       "3           15.461       7.811  \n",
       "4           20.398       7.600  "
      ]
     },
     "execution_count": 3,
     "metadata": {},
     "output_type": "execute_result"
    }
   ],
   "source": [
    "movies.head()"
   ]
  },
  {
   "cell_type": "code",
   "execution_count": 4,
   "metadata": {},
   "outputs": [
    {
     "data": {
      "text/plain": [
       "(5850, 15)"
      ]
     },
     "execution_count": 4,
     "metadata": {},
     "output_type": "execute_result"
    }
   ],
   "source": [
    "movies.shape"
   ]
  },
  {
   "cell_type": "code",
   "execution_count": 5,
   "metadata": {},
   "outputs": [
    {
     "data": {
      "text/html": [
       "<div>\n",
       "<style scoped>\n",
       "    .dataframe tbody tr th:only-of-type {\n",
       "        vertical-align: middle;\n",
       "    }\n",
       "\n",
       "    .dataframe tbody tr th {\n",
       "        vertical-align: top;\n",
       "    }\n",
       "\n",
       "    .dataframe thead th {\n",
       "        text-align: right;\n",
       "    }\n",
       "</style>\n",
       "<table border=\"1\" class=\"dataframe\">\n",
       "  <thead>\n",
       "    <tr style=\"text-align: right;\">\n",
       "      <th></th>\n",
       "      <th>id</th>\n",
       "      <th>title</th>\n",
       "      <th>type</th>\n",
       "      <th>description</th>\n",
       "      <th>genres</th>\n",
       "    </tr>\n",
       "  </thead>\n",
       "  <tbody>\n",
       "    <tr>\n",
       "      <th>0</th>\n",
       "      <td>ts300399</td>\n",
       "      <td>Five Came Back: The Reference Films</td>\n",
       "      <td>SHOW</td>\n",
       "      <td>This collection includes 12 World War II-era p...</td>\n",
       "      <td>['documentation']</td>\n",
       "    </tr>\n",
       "    <tr>\n",
       "      <th>1</th>\n",
       "      <td>tm84618</td>\n",
       "      <td>Taxi Driver</td>\n",
       "      <td>MOVIE</td>\n",
       "      <td>A mentally unstable Vietnam War veteran works ...</td>\n",
       "      <td>['drama', 'crime']</td>\n",
       "    </tr>\n",
       "    <tr>\n",
       "      <th>2</th>\n",
       "      <td>tm154986</td>\n",
       "      <td>Deliverance</td>\n",
       "      <td>MOVIE</td>\n",
       "      <td>Intent on seeing the Cahulawassee River before...</td>\n",
       "      <td>['drama', 'action', 'thriller', 'european']</td>\n",
       "    </tr>\n",
       "    <tr>\n",
       "      <th>3</th>\n",
       "      <td>tm127384</td>\n",
       "      <td>Monty Python and the Holy Grail</td>\n",
       "      <td>MOVIE</td>\n",
       "      <td>King Arthur, accompanied by his squire, recrui...</td>\n",
       "      <td>['fantasy', 'action', 'comedy']</td>\n",
       "    </tr>\n",
       "    <tr>\n",
       "      <th>4</th>\n",
       "      <td>tm120801</td>\n",
       "      <td>The Dirty Dozen</td>\n",
       "      <td>MOVIE</td>\n",
       "      <td>12 American military prisoners in World War II...</td>\n",
       "      <td>['war', 'action']</td>\n",
       "    </tr>\n",
       "  </tbody>\n",
       "</table>\n",
       "</div>"
      ],
      "text/plain": [
       "         id                                title   type   \n",
       "0  ts300399  Five Came Back: The Reference Films   SHOW  \\\n",
       "1   tm84618                          Taxi Driver  MOVIE   \n",
       "2  tm154986                          Deliverance  MOVIE   \n",
       "3  tm127384      Monty Python and the Holy Grail  MOVIE   \n",
       "4  tm120801                      The Dirty Dozen  MOVIE   \n",
       "\n",
       "                                         description   \n",
       "0  This collection includes 12 World War II-era p...  \\\n",
       "1  A mentally unstable Vietnam War veteran works ...   \n",
       "2  Intent on seeing the Cahulawassee River before...   \n",
       "3  King Arthur, accompanied by his squire, recrui...   \n",
       "4  12 American military prisoners in World War II...   \n",
       "\n",
       "                                        genres  \n",
       "0                            ['documentation']  \n",
       "1                           ['drama', 'crime']  \n",
       "2  ['drama', 'action', 'thriller', 'european']  \n",
       "3              ['fantasy', 'action', 'comedy']  \n",
       "4                            ['war', 'action']  "
      ]
     },
     "execution_count": 5,
     "metadata": {},
     "output_type": "execute_result"
    }
   ],
   "source": [
    "movies = movies[['id', 'title', 'type','description', 'genres']]\n",
    "movies.head()\n"
   ]
  },
  {
   "cell_type": "code",
   "execution_count": 6,
   "metadata": {},
   "outputs": [
    {
     "data": {
      "text/html": [
       "<div>\n",
       "<style scoped>\n",
       "    .dataframe tbody tr th:only-of-type {\n",
       "        vertical-align: middle;\n",
       "    }\n",
       "\n",
       "    .dataframe tbody tr th {\n",
       "        vertical-align: top;\n",
       "    }\n",
       "\n",
       "    .dataframe thead th {\n",
       "        text-align: right;\n",
       "    }\n",
       "</style>\n",
       "<table border=\"1\" class=\"dataframe\">\n",
       "  <thead>\n",
       "    <tr style=\"text-align: right;\">\n",
       "      <th></th>\n",
       "      <th>person_id</th>\n",
       "      <th>id</th>\n",
       "      <th>name</th>\n",
       "      <th>character</th>\n",
       "      <th>role</th>\n",
       "    </tr>\n",
       "  </thead>\n",
       "  <tbody>\n",
       "    <tr>\n",
       "      <th>0</th>\n",
       "      <td>3748</td>\n",
       "      <td>tm84618</td>\n",
       "      <td>Robert De Niro</td>\n",
       "      <td>Travis Bickle</td>\n",
       "      <td>ACTOR</td>\n",
       "    </tr>\n",
       "    <tr>\n",
       "      <th>1</th>\n",
       "      <td>14658</td>\n",
       "      <td>tm84618</td>\n",
       "      <td>Jodie Foster</td>\n",
       "      <td>Iris Steensma</td>\n",
       "      <td>ACTOR</td>\n",
       "    </tr>\n",
       "    <tr>\n",
       "      <th>2</th>\n",
       "      <td>7064</td>\n",
       "      <td>tm84618</td>\n",
       "      <td>Albert Brooks</td>\n",
       "      <td>Tom</td>\n",
       "      <td>ACTOR</td>\n",
       "    </tr>\n",
       "    <tr>\n",
       "      <th>3</th>\n",
       "      <td>3739</td>\n",
       "      <td>tm84618</td>\n",
       "      <td>Harvey Keitel</td>\n",
       "      <td>Matthew 'Sport' Higgins</td>\n",
       "      <td>ACTOR</td>\n",
       "    </tr>\n",
       "    <tr>\n",
       "      <th>4</th>\n",
       "      <td>48933</td>\n",
       "      <td>tm84618</td>\n",
       "      <td>Cybill Shepherd</td>\n",
       "      <td>Betsy</td>\n",
       "      <td>ACTOR</td>\n",
       "    </tr>\n",
       "  </tbody>\n",
       "</table>\n",
       "</div>"
      ],
      "text/plain": [
       "   person_id       id             name                character   role\n",
       "0       3748  tm84618   Robert De Niro            Travis Bickle  ACTOR\n",
       "1      14658  tm84618     Jodie Foster            Iris Steensma  ACTOR\n",
       "2       7064  tm84618    Albert Brooks                      Tom  ACTOR\n",
       "3       3739  tm84618    Harvey Keitel  Matthew 'Sport' Higgins  ACTOR\n",
       "4      48933  tm84618  Cybill Shepherd                    Betsy  ACTOR"
      ]
     },
     "execution_count": 6,
     "metadata": {},
     "output_type": "execute_result"
    }
   ],
   "source": [
    "credits.head()"
   ]
  },
  {
   "cell_type": "code",
   "execution_count": 7,
   "metadata": {},
   "outputs": [],
   "source": [
    "credits = credits.groupby('id').agg(\n",
    "    {'name': list,\n",
    "     'character': list,\n",
    "     'role':list}\n",
    ").reset_index()"
   ]
  },
  {
   "cell_type": "code",
   "execution_count": 8,
   "metadata": {},
   "outputs": [
    {
     "data": {
      "text/html": [
       "<div>\n",
       "<style scoped>\n",
       "    .dataframe tbody tr th:only-of-type {\n",
       "        vertical-align: middle;\n",
       "    }\n",
       "\n",
       "    .dataframe tbody tr th {\n",
       "        vertical-align: top;\n",
       "    }\n",
       "\n",
       "    .dataframe thead th {\n",
       "        text-align: right;\n",
       "    }\n",
       "</style>\n",
       "<table border=\"1\" class=\"dataframe\">\n",
       "  <thead>\n",
       "    <tr style=\"text-align: right;\">\n",
       "      <th></th>\n",
       "      <th>id</th>\n",
       "      <th>name</th>\n",
       "      <th>character</th>\n",
       "      <th>role</th>\n",
       "    </tr>\n",
       "  </thead>\n",
       "  <tbody>\n",
       "    <tr>\n",
       "      <th>0</th>\n",
       "      <td>tm1000037</td>\n",
       "      <td>[Luna Wedler, Jannis Niewöhner, Milan Peschel,...</td>\n",
       "      <td>[Maxi, Karl, Alex, Ante, Jitka, Pankraz, Didie...</td>\n",
       "      <td>[ACTOR, ACTOR, ACTOR, ACTOR, ACTOR, ACTOR, ACT...</td>\n",
       "    </tr>\n",
       "    <tr>\n",
       "      <th>1</th>\n",
       "      <td>tm1000147</td>\n",
       "      <td>[Guy Pearce, Matilda Anna Ingrid Lutz, Travis ...</td>\n",
       "      <td>[David Carmichael, Jane, Marlon Veidt, Joseph ...</td>\n",
       "      <td>[ACTOR, ACTOR, ACTOR, ACTOR, ACTOR, ACTOR, ACT...</td>\n",
       "    </tr>\n",
       "    <tr>\n",
       "      <th>2</th>\n",
       "      <td>tm100015</td>\n",
       "      <td>[Idris Elba, Paul Walker, Matt Dillon, Michael...</td>\n",
       "      <td>[Gordon Jennings, John Rahway, Jack Welles, Ja...</td>\n",
       "      <td>[ACTOR, ACTOR, ACTOR, ACTOR, ACTOR, ACTOR, ACT...</td>\n",
       "    </tr>\n",
       "    <tr>\n",
       "      <th>3</th>\n",
       "      <td>tm1000166</td>\n",
       "      <td>[Glenn Fredly, Marcello Tahitoe, Andien Aisyah...</td>\n",
       "      <td>[Himself, Himself, Herself, Herself, Himself, ...</td>\n",
       "      <td>[ACTOR, ACTOR, ACTOR, ACTOR, ACTOR, ACTOR, DIR...</td>\n",
       "    </tr>\n",
       "    <tr>\n",
       "      <th>4</th>\n",
       "      <td>tm1000185</td>\n",
       "      <td>[Adrianna Chlebicka, Mateusz Banasiuk, Mirosła...</td>\n",
       "      <td>[Monika/Klaudia, Enzo, Ojciec Moniki, Ilona, J...</td>\n",
       "      <td>[ACTOR, ACTOR, ACTOR, ACTOR, ACTOR, ACTOR, ACT...</td>\n",
       "    </tr>\n",
       "  </tbody>\n",
       "</table>\n",
       "</div>"
      ],
      "text/plain": [
       "          id                                               name   \n",
       "0  tm1000037  [Luna Wedler, Jannis Niewöhner, Milan Peschel,...  \\\n",
       "1  tm1000147  [Guy Pearce, Matilda Anna Ingrid Lutz, Travis ...   \n",
       "2   tm100015  [Idris Elba, Paul Walker, Matt Dillon, Michael...   \n",
       "3  tm1000166  [Glenn Fredly, Marcello Tahitoe, Andien Aisyah...   \n",
       "4  tm1000185  [Adrianna Chlebicka, Mateusz Banasiuk, Mirosła...   \n",
       "\n",
       "                                           character   \n",
       "0  [Maxi, Karl, Alex, Ante, Jitka, Pankraz, Didie...  \\\n",
       "1  [David Carmichael, Jane, Marlon Veidt, Joseph ...   \n",
       "2  [Gordon Jennings, John Rahway, Jack Welles, Ja...   \n",
       "3  [Himself, Himself, Herself, Herself, Himself, ...   \n",
       "4  [Monika/Klaudia, Enzo, Ojciec Moniki, Ilona, J...   \n",
       "\n",
       "                                                role  \n",
       "0  [ACTOR, ACTOR, ACTOR, ACTOR, ACTOR, ACTOR, ACT...  \n",
       "1  [ACTOR, ACTOR, ACTOR, ACTOR, ACTOR, ACTOR, ACT...  \n",
       "2  [ACTOR, ACTOR, ACTOR, ACTOR, ACTOR, ACTOR, ACT...  \n",
       "3  [ACTOR, ACTOR, ACTOR, ACTOR, ACTOR, ACTOR, DIR...  \n",
       "4  [ACTOR, ACTOR, ACTOR, ACTOR, ACTOR, ACTOR, ACT...  "
      ]
     },
     "execution_count": 8,
     "metadata": {},
     "output_type": "execute_result"
    }
   ],
   "source": [
    "credits.head()"
   ]
  },
  {
   "cell_type": "code",
   "execution_count": 9,
   "metadata": {},
   "outputs": [
    {
     "data": {
      "text/html": [
       "<div>\n",
       "<style scoped>\n",
       "    .dataframe tbody tr th:only-of-type {\n",
       "        vertical-align: middle;\n",
       "    }\n",
       "\n",
       "    .dataframe tbody tr th {\n",
       "        vertical-align: top;\n",
       "    }\n",
       "\n",
       "    .dataframe thead th {\n",
       "        text-align: right;\n",
       "    }\n",
       "</style>\n",
       "<table border=\"1\" class=\"dataframe\">\n",
       "  <thead>\n",
       "    <tr style=\"text-align: right;\">\n",
       "      <th></th>\n",
       "      <th>id</th>\n",
       "      <th>title</th>\n",
       "      <th>type</th>\n",
       "      <th>description</th>\n",
       "      <th>genres</th>\n",
       "      <th>name</th>\n",
       "      <th>character</th>\n",
       "      <th>role</th>\n",
       "    </tr>\n",
       "  </thead>\n",
       "  <tbody>\n",
       "    <tr>\n",
       "      <th>0</th>\n",
       "      <td>tm84618</td>\n",
       "      <td>Taxi Driver</td>\n",
       "      <td>MOVIE</td>\n",
       "      <td>A mentally unstable Vietnam War veteran works ...</td>\n",
       "      <td>['drama', 'crime']</td>\n",
       "      <td>[Robert De Niro, Jodie Foster, Albert Brooks, ...</td>\n",
       "      <td>[Travis Bickle, Iris Steensma, Tom, Matthew 'S...</td>\n",
       "      <td>[ACTOR, ACTOR, ACTOR, ACTOR, ACTOR, ACTOR, ACT...</td>\n",
       "    </tr>\n",
       "    <tr>\n",
       "      <th>1</th>\n",
       "      <td>tm154986</td>\n",
       "      <td>Deliverance</td>\n",
       "      <td>MOVIE</td>\n",
       "      <td>Intent on seeing the Cahulawassee River before...</td>\n",
       "      <td>['drama', 'action', 'thriller', 'european']</td>\n",
       "      <td>[Jon Voight, Burt Reynolds, Ned Beatty, Ronny ...</td>\n",
       "      <td>[Ed Gentry, Lewis Medlock, Bobby Trippe, Drew ...</td>\n",
       "      <td>[ACTOR, ACTOR, ACTOR, ACTOR, ACTOR, ACTOR, ACT...</td>\n",
       "    </tr>\n",
       "    <tr>\n",
       "      <th>2</th>\n",
       "      <td>tm127384</td>\n",
       "      <td>Monty Python and the Holy Grail</td>\n",
       "      <td>MOVIE</td>\n",
       "      <td>King Arthur, accompanied by his squire, recrui...</td>\n",
       "      <td>['fantasy', 'action', 'comedy']</td>\n",
       "      <td>[Graham Chapman, John Cleese, Eric Idle, Terry...</td>\n",
       "      <td>[King Arthur / Voice of God / Middle Head / Hi...</td>\n",
       "      <td>[ACTOR, ACTOR, ACTOR, ACTOR, ACTOR, ACTOR, ACT...</td>\n",
       "    </tr>\n",
       "    <tr>\n",
       "      <th>3</th>\n",
       "      <td>tm120801</td>\n",
       "      <td>The Dirty Dozen</td>\n",
       "      <td>MOVIE</td>\n",
       "      <td>12 American military prisoners in World War II...</td>\n",
       "      <td>['war', 'action']</td>\n",
       "      <td>[Lee Marvin, Ernest Borgnine, Charles Bronson,...</td>\n",
       "      <td>[Maj. John Reisman, Maj. Gen. Worden, Joseph W...</td>\n",
       "      <td>[ACTOR, ACTOR, ACTOR, ACTOR, ACTOR, ACTOR, ACT...</td>\n",
       "    </tr>\n",
       "    <tr>\n",
       "      <th>4</th>\n",
       "      <td>ts22164</td>\n",
       "      <td>Monty Python's Flying Circus</td>\n",
       "      <td>SHOW</td>\n",
       "      <td>A British sketch comedy series with the shows ...</td>\n",
       "      <td>['comedy', 'european']</td>\n",
       "      <td>[Graham Chapman, Michael Palin, Terry Jones, E...</td>\n",
       "      <td>[Various, Various / \"It's\" man, Various, Vario...</td>\n",
       "      <td>[ACTOR, ACTOR, ACTOR, ACTOR, ACTOR]</td>\n",
       "    </tr>\n",
       "  </tbody>\n",
       "</table>\n",
       "</div>"
      ],
      "text/plain": [
       "         id                            title   type   \n",
       "0   tm84618                      Taxi Driver  MOVIE  \\\n",
       "1  tm154986                      Deliverance  MOVIE   \n",
       "2  tm127384  Monty Python and the Holy Grail  MOVIE   \n",
       "3  tm120801                  The Dirty Dozen  MOVIE   \n",
       "4   ts22164     Monty Python's Flying Circus   SHOW   \n",
       "\n",
       "                                         description   \n",
       "0  A mentally unstable Vietnam War veteran works ...  \\\n",
       "1  Intent on seeing the Cahulawassee River before...   \n",
       "2  King Arthur, accompanied by his squire, recrui...   \n",
       "3  12 American military prisoners in World War II...   \n",
       "4  A British sketch comedy series with the shows ...   \n",
       "\n",
       "                                        genres   \n",
       "0                           ['drama', 'crime']  \\\n",
       "1  ['drama', 'action', 'thriller', 'european']   \n",
       "2              ['fantasy', 'action', 'comedy']   \n",
       "3                            ['war', 'action']   \n",
       "4                       ['comedy', 'european']   \n",
       "\n",
       "                                                name   \n",
       "0  [Robert De Niro, Jodie Foster, Albert Brooks, ...  \\\n",
       "1  [Jon Voight, Burt Reynolds, Ned Beatty, Ronny ...   \n",
       "2  [Graham Chapman, John Cleese, Eric Idle, Terry...   \n",
       "3  [Lee Marvin, Ernest Borgnine, Charles Bronson,...   \n",
       "4  [Graham Chapman, Michael Palin, Terry Jones, E...   \n",
       "\n",
       "                                           character   \n",
       "0  [Travis Bickle, Iris Steensma, Tom, Matthew 'S...  \\\n",
       "1  [Ed Gentry, Lewis Medlock, Bobby Trippe, Drew ...   \n",
       "2  [King Arthur / Voice of God / Middle Head / Hi...   \n",
       "3  [Maj. John Reisman, Maj. Gen. Worden, Joseph W...   \n",
       "4  [Various, Various / \"It's\" man, Various, Vario...   \n",
       "\n",
       "                                                role  \n",
       "0  [ACTOR, ACTOR, ACTOR, ACTOR, ACTOR, ACTOR, ACT...  \n",
       "1  [ACTOR, ACTOR, ACTOR, ACTOR, ACTOR, ACTOR, ACT...  \n",
       "2  [ACTOR, ACTOR, ACTOR, ACTOR, ACTOR, ACTOR, ACT...  \n",
       "3  [ACTOR, ACTOR, ACTOR, ACTOR, ACTOR, ACTOR, ACT...  \n",
       "4                [ACTOR, ACTOR, ACTOR, ACTOR, ACTOR]  "
      ]
     },
     "execution_count": 9,
     "metadata": {},
     "output_type": "execute_result"
    }
   ],
   "source": [
    "movies = movies.merge(credits,on='id')\n",
    "movies.head()"
   ]
  },
  {
   "cell_type": "code",
   "execution_count": 10,
   "metadata": {},
   "outputs": [],
   "source": [
    "count  = 0\n",
    "for i in range (0, len(credits)):\n",
    "    j = len(credits['role'][i])\n",
    "    for k in range(0,j):\n",
    "        if(credits['role'][i][k]) == 'DIRECTOR':\n",
    "            count += 1\n",
    "    "
   ]
  },
  {
   "cell_type": "code",
   "execution_count": 11,
   "metadata": {},
   "outputs": [],
   "source": [
    "movies['director'] = [[]] * len(movies)"
   ]
  },
  {
   "cell_type": "code",
   "execution_count": 12,
   "metadata": {},
   "outputs": [],
   "source": [
    "for i in range (0, len(movies)):\n",
    "    j = len(movies['character'][i])\n",
    "    movies['director'][i] = [movies['name'][i][j-1]]"
   ]
  },
  {
   "cell_type": "code",
   "execution_count": 13,
   "metadata": {},
   "outputs": [
    {
     "data": {
      "text/html": [
       "<div>\n",
       "<style scoped>\n",
       "    .dataframe tbody tr th:only-of-type {\n",
       "        vertical-align: middle;\n",
       "    }\n",
       "\n",
       "    .dataframe tbody tr th {\n",
       "        vertical-align: top;\n",
       "    }\n",
       "\n",
       "    .dataframe thead th {\n",
       "        text-align: right;\n",
       "    }\n",
       "</style>\n",
       "<table border=\"1\" class=\"dataframe\">\n",
       "  <thead>\n",
       "    <tr style=\"text-align: right;\">\n",
       "      <th></th>\n",
       "      <th>id</th>\n",
       "      <th>title</th>\n",
       "      <th>type</th>\n",
       "      <th>description</th>\n",
       "      <th>genres</th>\n",
       "      <th>name</th>\n",
       "      <th>character</th>\n",
       "      <th>role</th>\n",
       "      <th>director</th>\n",
       "    </tr>\n",
       "  </thead>\n",
       "  <tbody>\n",
       "    <tr>\n",
       "      <th>0</th>\n",
       "      <td>tm84618</td>\n",
       "      <td>Taxi Driver</td>\n",
       "      <td>MOVIE</td>\n",
       "      <td>A mentally unstable Vietnam War veteran works ...</td>\n",
       "      <td>['drama', 'crime']</td>\n",
       "      <td>[Robert De Niro, Jodie Foster, Albert Brooks, ...</td>\n",
       "      <td>[Travis Bickle, Iris Steensma, Tom, Matthew 'S...</td>\n",
       "      <td>[ACTOR, ACTOR, ACTOR, ACTOR, ACTOR, ACTOR, ACT...</td>\n",
       "      <td>[Martin Scorsese]</td>\n",
       "    </tr>\n",
       "    <tr>\n",
       "      <th>1</th>\n",
       "      <td>tm154986</td>\n",
       "      <td>Deliverance</td>\n",
       "      <td>MOVIE</td>\n",
       "      <td>Intent on seeing the Cahulawassee River before...</td>\n",
       "      <td>['drama', 'action', 'thriller', 'european']</td>\n",
       "      <td>[Jon Voight, Burt Reynolds, Ned Beatty, Ronny ...</td>\n",
       "      <td>[Ed Gentry, Lewis Medlock, Bobby Trippe, Drew ...</td>\n",
       "      <td>[ACTOR, ACTOR, ACTOR, ACTOR, ACTOR, ACTOR, ACT...</td>\n",
       "      <td>[John Boorman]</td>\n",
       "    </tr>\n",
       "    <tr>\n",
       "      <th>2</th>\n",
       "      <td>tm127384</td>\n",
       "      <td>Monty Python and the Holy Grail</td>\n",
       "      <td>MOVIE</td>\n",
       "      <td>King Arthur, accompanied by his squire, recrui...</td>\n",
       "      <td>['fantasy', 'action', 'comedy']</td>\n",
       "      <td>[Graham Chapman, John Cleese, Eric Idle, Terry...</td>\n",
       "      <td>[King Arthur / Voice of God / Middle Head / Hi...</td>\n",
       "      <td>[ACTOR, ACTOR, ACTOR, ACTOR, ACTOR, ACTOR, ACT...</td>\n",
       "      <td>[Terry Gilliam]</td>\n",
       "    </tr>\n",
       "    <tr>\n",
       "      <th>3</th>\n",
       "      <td>tm120801</td>\n",
       "      <td>The Dirty Dozen</td>\n",
       "      <td>MOVIE</td>\n",
       "      <td>12 American military prisoners in World War II...</td>\n",
       "      <td>['war', 'action']</td>\n",
       "      <td>[Lee Marvin, Ernest Borgnine, Charles Bronson,...</td>\n",
       "      <td>[Maj. John Reisman, Maj. Gen. Worden, Joseph W...</td>\n",
       "      <td>[ACTOR, ACTOR, ACTOR, ACTOR, ACTOR, ACTOR, ACT...</td>\n",
       "      <td>[Robert Aldrich]</td>\n",
       "    </tr>\n",
       "    <tr>\n",
       "      <th>4</th>\n",
       "      <td>ts22164</td>\n",
       "      <td>Monty Python's Flying Circus</td>\n",
       "      <td>SHOW</td>\n",
       "      <td>A British sketch comedy series with the shows ...</td>\n",
       "      <td>['comedy', 'european']</td>\n",
       "      <td>[Graham Chapman, Michael Palin, Terry Jones, E...</td>\n",
       "      <td>[Various, Various / \"It's\" man, Various, Vario...</td>\n",
       "      <td>[ACTOR, ACTOR, ACTOR, ACTOR, ACTOR]</td>\n",
       "      <td>[Terry Gilliam]</td>\n",
       "    </tr>\n",
       "  </tbody>\n",
       "</table>\n",
       "</div>"
      ],
      "text/plain": [
       "         id                            title   type   \n",
       "0   tm84618                      Taxi Driver  MOVIE  \\\n",
       "1  tm154986                      Deliverance  MOVIE   \n",
       "2  tm127384  Monty Python and the Holy Grail  MOVIE   \n",
       "3  tm120801                  The Dirty Dozen  MOVIE   \n",
       "4   ts22164     Monty Python's Flying Circus   SHOW   \n",
       "\n",
       "                                         description   \n",
       "0  A mentally unstable Vietnam War veteran works ...  \\\n",
       "1  Intent on seeing the Cahulawassee River before...   \n",
       "2  King Arthur, accompanied by his squire, recrui...   \n",
       "3  12 American military prisoners in World War II...   \n",
       "4  A British sketch comedy series with the shows ...   \n",
       "\n",
       "                                        genres   \n",
       "0                           ['drama', 'crime']  \\\n",
       "1  ['drama', 'action', 'thriller', 'european']   \n",
       "2              ['fantasy', 'action', 'comedy']   \n",
       "3                            ['war', 'action']   \n",
       "4                       ['comedy', 'european']   \n",
       "\n",
       "                                                name   \n",
       "0  [Robert De Niro, Jodie Foster, Albert Brooks, ...  \\\n",
       "1  [Jon Voight, Burt Reynolds, Ned Beatty, Ronny ...   \n",
       "2  [Graham Chapman, John Cleese, Eric Idle, Terry...   \n",
       "3  [Lee Marvin, Ernest Borgnine, Charles Bronson,...   \n",
       "4  [Graham Chapman, Michael Palin, Terry Jones, E...   \n",
       "\n",
       "                                           character   \n",
       "0  [Travis Bickle, Iris Steensma, Tom, Matthew 'S...  \\\n",
       "1  [Ed Gentry, Lewis Medlock, Bobby Trippe, Drew ...   \n",
       "2  [King Arthur / Voice of God / Middle Head / Hi...   \n",
       "3  [Maj. John Reisman, Maj. Gen. Worden, Joseph W...   \n",
       "4  [Various, Various / \"It's\" man, Various, Vario...   \n",
       "\n",
       "                                                role           director  \n",
       "0  [ACTOR, ACTOR, ACTOR, ACTOR, ACTOR, ACTOR, ACT...  [Martin Scorsese]  \n",
       "1  [ACTOR, ACTOR, ACTOR, ACTOR, ACTOR, ACTOR, ACT...     [John Boorman]  \n",
       "2  [ACTOR, ACTOR, ACTOR, ACTOR, ACTOR, ACTOR, ACT...    [Terry Gilliam]  \n",
       "3  [ACTOR, ACTOR, ACTOR, ACTOR, ACTOR, ACTOR, ACT...   [Robert Aldrich]  \n",
       "4                [ACTOR, ACTOR, ACTOR, ACTOR, ACTOR]    [Terry Gilliam]  "
      ]
     },
     "execution_count": 13,
     "metadata": {},
     "output_type": "execute_result"
    }
   ],
   "source": [
    "movies.head()"
   ]
  },
  {
   "cell_type": "code",
   "execution_count": 14,
   "metadata": {},
   "outputs": [
    {
     "data": {
      "text/html": [
       "<div>\n",
       "<style scoped>\n",
       "    .dataframe tbody tr th:only-of-type {\n",
       "        vertical-align: middle;\n",
       "    }\n",
       "\n",
       "    .dataframe tbody tr th {\n",
       "        vertical-align: top;\n",
       "    }\n",
       "\n",
       "    .dataframe thead th {\n",
       "        text-align: right;\n",
       "    }\n",
       "</style>\n",
       "<table border=\"1\" class=\"dataframe\">\n",
       "  <thead>\n",
       "    <tr style=\"text-align: right;\">\n",
       "      <th></th>\n",
       "      <th>id</th>\n",
       "      <th>title</th>\n",
       "      <th>type</th>\n",
       "      <th>description</th>\n",
       "      <th>genres</th>\n",
       "      <th>name</th>\n",
       "      <th>director</th>\n",
       "    </tr>\n",
       "  </thead>\n",
       "  <tbody>\n",
       "    <tr>\n",
       "      <th>0</th>\n",
       "      <td>tm84618</td>\n",
       "      <td>Taxi Driver</td>\n",
       "      <td>MOVIE</td>\n",
       "      <td>A mentally unstable Vietnam War veteran works ...</td>\n",
       "      <td>['drama', 'crime']</td>\n",
       "      <td>[Robert De Niro, Jodie Foster, Albert Brooks, ...</td>\n",
       "      <td>[Martin Scorsese]</td>\n",
       "    </tr>\n",
       "    <tr>\n",
       "      <th>1</th>\n",
       "      <td>tm154986</td>\n",
       "      <td>Deliverance</td>\n",
       "      <td>MOVIE</td>\n",
       "      <td>Intent on seeing the Cahulawassee River before...</td>\n",
       "      <td>['drama', 'action', 'thriller', 'european']</td>\n",
       "      <td>[Jon Voight, Burt Reynolds, Ned Beatty, Ronny ...</td>\n",
       "      <td>[John Boorman]</td>\n",
       "    </tr>\n",
       "    <tr>\n",
       "      <th>2</th>\n",
       "      <td>tm127384</td>\n",
       "      <td>Monty Python and the Holy Grail</td>\n",
       "      <td>MOVIE</td>\n",
       "      <td>King Arthur, accompanied by his squire, recrui...</td>\n",
       "      <td>['fantasy', 'action', 'comedy']</td>\n",
       "      <td>[Graham Chapman, John Cleese, Eric Idle, Terry...</td>\n",
       "      <td>[Terry Gilliam]</td>\n",
       "    </tr>\n",
       "    <tr>\n",
       "      <th>3</th>\n",
       "      <td>tm120801</td>\n",
       "      <td>The Dirty Dozen</td>\n",
       "      <td>MOVIE</td>\n",
       "      <td>12 American military prisoners in World War II...</td>\n",
       "      <td>['war', 'action']</td>\n",
       "      <td>[Lee Marvin, Ernest Borgnine, Charles Bronson,...</td>\n",
       "      <td>[Robert Aldrich]</td>\n",
       "    </tr>\n",
       "    <tr>\n",
       "      <th>4</th>\n",
       "      <td>ts22164</td>\n",
       "      <td>Monty Python's Flying Circus</td>\n",
       "      <td>SHOW</td>\n",
       "      <td>A British sketch comedy series with the shows ...</td>\n",
       "      <td>['comedy', 'european']</td>\n",
       "      <td>[Graham Chapman, Michael Palin, Terry Jones, E...</td>\n",
       "      <td>[Terry Gilliam]</td>\n",
       "    </tr>\n",
       "  </tbody>\n",
       "</table>\n",
       "</div>"
      ],
      "text/plain": [
       "         id                            title   type   \n",
       "0   tm84618                      Taxi Driver  MOVIE  \\\n",
       "1  tm154986                      Deliverance  MOVIE   \n",
       "2  tm127384  Monty Python and the Holy Grail  MOVIE   \n",
       "3  tm120801                  The Dirty Dozen  MOVIE   \n",
       "4   ts22164     Monty Python's Flying Circus   SHOW   \n",
       "\n",
       "                                         description   \n",
       "0  A mentally unstable Vietnam War veteran works ...  \\\n",
       "1  Intent on seeing the Cahulawassee River before...   \n",
       "2  King Arthur, accompanied by his squire, recrui...   \n",
       "3  12 American military prisoners in World War II...   \n",
       "4  A British sketch comedy series with the shows ...   \n",
       "\n",
       "                                        genres   \n",
       "0                           ['drama', 'crime']  \\\n",
       "1  ['drama', 'action', 'thriller', 'european']   \n",
       "2              ['fantasy', 'action', 'comedy']   \n",
       "3                            ['war', 'action']   \n",
       "4                       ['comedy', 'european']   \n",
       "\n",
       "                                                name           director  \n",
       "0  [Robert De Niro, Jodie Foster, Albert Brooks, ...  [Martin Scorsese]  \n",
       "1  [Jon Voight, Burt Reynolds, Ned Beatty, Ronny ...     [John Boorman]  \n",
       "2  [Graham Chapman, John Cleese, Eric Idle, Terry...    [Terry Gilliam]  \n",
       "3  [Lee Marvin, Ernest Borgnine, Charles Bronson,...   [Robert Aldrich]  \n",
       "4  [Graham Chapman, Michael Palin, Terry Jones, E...    [Terry Gilliam]  "
      ]
     },
     "execution_count": 14,
     "metadata": {},
     "output_type": "execute_result"
    }
   ],
   "source": [
    "movies = movies.drop('character', axis=1)\n",
    "movies = movies.drop('role', axis=1)\n",
    "movies.head()"
   ]
  },
  {
   "cell_type": "code",
   "execution_count": 15,
   "metadata": {},
   "outputs": [],
   "source": [
    "# Considering only top 5 actors in the list \n",
    "for i in range (0, len(movies)):\n",
    "    movies['name'][i] = movies['name'][i][:5]"
   ]
  },
  {
   "cell_type": "code",
   "execution_count": 16,
   "metadata": {},
   "outputs": [
    {
     "data": {
      "text/plain": [
       "['Robert De Niro',\n",
       " 'Jodie Foster',\n",
       " 'Albert Brooks',\n",
       " 'Harvey Keitel',\n",
       " 'Cybill Shepherd']"
      ]
     },
     "execution_count": 16,
     "metadata": {},
     "output_type": "execute_result"
    }
   ],
   "source": [
    "movies['name'][0]"
   ]
  },
  {
   "cell_type": "code",
   "execution_count": 17,
   "metadata": {},
   "outputs": [],
   "source": [
    "movies['description'] = movies['description'].apply(lambda x:x.split() if isinstance(x, str) else [])"
   ]
  },
  {
   "cell_type": "code",
   "execution_count": 18,
   "metadata": {},
   "outputs": [
    {
     "data": {
      "text/plain": [
       "0       [A, mentally, unstable, Vietnam, War, veteran,...\n",
       "1       [Intent, on, seeing, the, Cahulawassee, River,...\n",
       "2       [King, Arthur,, accompanied, by, his, squire,,...\n",
       "3       [12, American, military, prisoners, in, World,...\n",
       "4       [A, British, sketch, comedy, series, with, the...\n",
       "                              ...                        \n",
       "5484    [In, 14th-century, Mali,, an, ambitious, young...\n",
       "5485    [Reese, is, a, con, artist, from, Manila, who,...\n",
       "5486    [The, story, follows, a, young, man, and, woma...\n",
       "5487    [A, beautiful, love, story, that, can, happen,...\n",
       "5488    [A, controversial, TV, host, and, comedian, wh...\n",
       "Name: description, Length: 5489, dtype: object"
      ]
     },
     "execution_count": 18,
     "metadata": {},
     "output_type": "execute_result"
    }
   ],
   "source": [
    "movies['description']"
   ]
  },
  {
   "cell_type": "code",
   "execution_count": 19,
   "metadata": {},
   "outputs": [],
   "source": [
    "def collapse(L):\n",
    "    L1 = []\n",
    "    for i in L:\n",
    "        L1.append(i.replace(\" \",\"\"))\n",
    "    return L1"
   ]
  },
  {
   "cell_type": "code",
   "execution_count": 20,
   "metadata": {},
   "outputs": [],
   "source": [
    "movies['description'] = movies['description'].apply(collapse)\n",
    "# movies['genres'] = movies['genres'].apply(collapse)\n",
    "\n"
   ]
  },
  {
   "cell_type": "code",
   "execution_count": 21,
   "metadata": {},
   "outputs": [],
   "source": [
    "movies['name'] = movies['name'].apply(collapse)"
   ]
  },
  {
   "cell_type": "code",
   "execution_count": 22,
   "metadata": {},
   "outputs": [
    {
     "data": {
      "text/plain": [
       "['RobertDeNiro',\n",
       " 'JodieFoster',\n",
       " 'AlbertBrooks',\n",
       " 'HarveyKeitel',\n",
       " 'CybillShepherd']"
      ]
     },
     "execution_count": 22,
     "metadata": {},
     "output_type": "execute_result"
    }
   ],
   "source": [
    "movies['name'][0]"
   ]
  },
  {
   "cell_type": "code",
   "execution_count": 23,
   "metadata": {},
   "outputs": [],
   "source": [
    "movies['director'] = movies['director'].tolist()"
   ]
  },
  {
   "cell_type": "code",
   "execution_count": 24,
   "metadata": {},
   "outputs": [
    {
     "data": {
      "text/plain": [
       "['Martin Scorsese']"
      ]
     },
     "execution_count": 24,
     "metadata": {},
     "output_type": "execute_result"
    }
   ],
   "source": [
    "movies['director'][0]"
   ]
  },
  {
   "cell_type": "code",
   "execution_count": 25,
   "metadata": {},
   "outputs": [],
   "source": [
    "movies['director'] = movies['director'].apply(collapse)"
   ]
  },
  {
   "cell_type": "code",
   "execution_count": 26,
   "metadata": {},
   "outputs": [
    {
     "data": {
      "text/plain": [
       "0       [MartinScorsese]\n",
       "1          [JohnBoorman]\n",
       "2         [TerryGilliam]\n",
       "3        [RobertAldrich]\n",
       "4         [TerryGilliam]\n",
       "              ...       \n",
       "5484         [JoePenney]\n",
       "5485     [BarryGonzalez]\n",
       "5486      [MohamedBakir]\n",
       "5487      [SeyiBabatope]\n",
       "5488     [JulianGaviria]\n",
       "Name: director, Length: 5489, dtype: object"
      ]
     },
     "execution_count": 26,
     "metadata": {},
     "output_type": "execute_result"
    }
   ],
   "source": [
    "movies['director']\n"
   ]
  },
  {
   "cell_type": "code",
   "execution_count": 27,
   "metadata": {},
   "outputs": [],
   "source": [
    "movies['tags'] = movies.apply(lambda row: [row['type'], row['description'], row['genres'], row['name'], row['director']], axis=1)"
   ]
  },
  {
   "cell_type": "code",
   "execution_count": 28,
   "metadata": {},
   "outputs": [],
   "source": [
    "final_data = movies.drop(columns=['type', 'description', 'genres', 'name', 'director'])"
   ]
  },
  {
   "cell_type": "code",
   "execution_count": 29,
   "metadata": {},
   "outputs": [
    {
     "name": "stdout",
     "output_type": "stream",
     "text": [
      "['MOVIE']\n",
      "['A', 'mentally', 'unstable', 'Vietnam', 'War', 'veteran', 'works', 'as', 'a', 'night-time', 'taxi', 'driver', 'in', 'New', 'York', 'City', 'where', 'the', 'perceived', 'decadence', 'and', 'sleaze', 'feed', 'his', 'urge', 'for', 'violent', 'action.']\n",
      "['drama', 'crime']\n",
      "['RobertDeNiro', 'JodieFoster', 'AlbertBrooks', 'HarveyKeitel', 'CybillShepherd']\n",
      "['MartinScorsese']\n"
     ]
    }
   ],
   "source": [
    "print([final_data['tags'][0][0]])\n",
    "print(final_data['tags'][0][1])\n",
    "print(final_data['tags'][0][2])\n",
    "print(final_data['tags'][0][3])\n",
    "print(final_data['tags'][0][4])"
   ]
  },
  {
   "cell_type": "code",
   "execution_count": 30,
   "metadata": {},
   "outputs": [],
   "source": [
    "for i in range (0, len(final_data['tags'])):\n",
    "    final_data['tags'][i][0] = [final_data['tags'][i][0]]"
   ]
  },
  {
   "cell_type": "code",
   "execution_count": 31,
   "metadata": {},
   "outputs": [
    {
     "data": {
      "text/plain": [
       "[['MOVIE'],\n",
       " ['A',\n",
       "  'mentally',\n",
       "  'unstable',\n",
       "  'Vietnam',\n",
       "  'War',\n",
       "  'veteran',\n",
       "  'works',\n",
       "  'as',\n",
       "  'a',\n",
       "  'night-time',\n",
       "  'taxi',\n",
       "  'driver',\n",
       "  'in',\n",
       "  'New',\n",
       "  'York',\n",
       "  'City',\n",
       "  'where',\n",
       "  'the',\n",
       "  'perceived',\n",
       "  'decadence',\n",
       "  'and',\n",
       "  'sleaze',\n",
       "  'feed',\n",
       "  'his',\n",
       "  'urge',\n",
       "  'for',\n",
       "  'violent',\n",
       "  'action.'],\n",
       " \"['drama', 'crime']\",\n",
       " ['RobertDeNiro',\n",
       "  'JodieFoster',\n",
       "  'AlbertBrooks',\n",
       "  'HarveyKeitel',\n",
       "  'CybillShepherd'],\n",
       " ['MartinScorsese']]"
      ]
     },
     "execution_count": 31,
     "metadata": {},
     "output_type": "execute_result"
    }
   ],
   "source": [
    "final_data['tags'][0]"
   ]
  },
  {
   "cell_type": "code",
   "execution_count": 32,
   "metadata": {},
   "outputs": [],
   "source": [
    "for i in  range (0, len(final_data['tags'])):\n",
    "    merged = []\n",
    "\n",
    "    for sublist in final_data['tags'][i]:\n",
    "        merged.extend(sublist)\n",
    "\n",
    "    final_data['tags'][i].clear()\n",
    "    final_data['tags'][i].extend(merged)"
   ]
  },
  {
   "cell_type": "code",
   "execution_count": 33,
   "metadata": {},
   "outputs": [],
   "source": [
    "final_data['tags'] = final_data['tags'].apply(lambda x: \" \".join(x))"
   ]
  },
  {
   "cell_type": "code",
   "execution_count": 34,
   "metadata": {},
   "outputs": [
    {
     "data": {
      "text/html": [
       "<div>\n",
       "<style scoped>\n",
       "    .dataframe tbody tr th:only-of-type {\n",
       "        vertical-align: middle;\n",
       "    }\n",
       "\n",
       "    .dataframe tbody tr th {\n",
       "        vertical-align: top;\n",
       "    }\n",
       "\n",
       "    .dataframe thead th {\n",
       "        text-align: right;\n",
       "    }\n",
       "</style>\n",
       "<table border=\"1\" class=\"dataframe\">\n",
       "  <thead>\n",
       "    <tr style=\"text-align: right;\">\n",
       "      <th></th>\n",
       "      <th>id</th>\n",
       "      <th>title</th>\n",
       "      <th>tags</th>\n",
       "    </tr>\n",
       "  </thead>\n",
       "  <tbody>\n",
       "    <tr>\n",
       "      <th>0</th>\n",
       "      <td>tm84618</td>\n",
       "      <td>Taxi Driver</td>\n",
       "      <td>MOVIE A mentally unstable Vietnam War veteran ...</td>\n",
       "    </tr>\n",
       "    <tr>\n",
       "      <th>1</th>\n",
       "      <td>tm154986</td>\n",
       "      <td>Deliverance</td>\n",
       "      <td>MOVIE Intent on seeing the Cahulawassee River ...</td>\n",
       "    </tr>\n",
       "    <tr>\n",
       "      <th>2</th>\n",
       "      <td>tm127384</td>\n",
       "      <td>Monty Python and the Holy Grail</td>\n",
       "      <td>MOVIE King Arthur, accompanied by his squire, ...</td>\n",
       "    </tr>\n",
       "    <tr>\n",
       "      <th>3</th>\n",
       "      <td>tm120801</td>\n",
       "      <td>The Dirty Dozen</td>\n",
       "      <td>MOVIE 12 American military prisoners in World ...</td>\n",
       "    </tr>\n",
       "    <tr>\n",
       "      <th>4</th>\n",
       "      <td>ts22164</td>\n",
       "      <td>Monty Python's Flying Circus</td>\n",
       "      <td>SHOW A British sketch comedy series with the s...</td>\n",
       "    </tr>\n",
       "  </tbody>\n",
       "</table>\n",
       "</div>"
      ],
      "text/plain": [
       "         id                            title   \n",
       "0   tm84618                      Taxi Driver  \\\n",
       "1  tm154986                      Deliverance   \n",
       "2  tm127384  Monty Python and the Holy Grail   \n",
       "3  tm120801                  The Dirty Dozen   \n",
       "4   ts22164     Monty Python's Flying Circus   \n",
       "\n",
       "                                                tags  \n",
       "0  MOVIE A mentally unstable Vietnam War veteran ...  \n",
       "1  MOVIE Intent on seeing the Cahulawassee River ...  \n",
       "2  MOVIE King Arthur, accompanied by his squire, ...  \n",
       "3  MOVIE 12 American military prisoners in World ...  \n",
       "4  SHOW A British sketch comedy series with the s...  "
      ]
     },
     "execution_count": 34,
     "metadata": {},
     "output_type": "execute_result"
    }
   ],
   "source": [
    "final_data.head()"
   ]
  },
  {
   "cell_type": "code",
   "execution_count": 35,
   "metadata": {},
   "outputs": [],
   "source": [
    "from sklearn.feature_extraction.text import CountVectorizer\n",
    "cv = CountVectorizer(max_features=5000,stop_words='english')"
   ]
  },
  {
   "cell_type": "code",
   "execution_count": 36,
   "metadata": {},
   "outputs": [],
   "source": [
    "vector = cv.fit_transform(final_data['tags']).toarray()"
   ]
  },
  {
   "cell_type": "code",
   "execution_count": 37,
   "metadata": {},
   "outputs": [
    {
     "data": {
      "text/plain": [
       "(5489, 5000)"
      ]
     },
     "execution_count": 37,
     "metadata": {},
     "output_type": "execute_result"
    }
   ],
   "source": [
    "vector.shape"
   ]
  },
  {
   "cell_type": "code",
   "execution_count": 38,
   "metadata": {},
   "outputs": [],
   "source": [
    "from sklearn.metrics.pairwise import cosine_similarity"
   ]
  },
  {
   "cell_type": "code",
   "execution_count": 39,
   "metadata": {},
   "outputs": [
    {
     "data": {
      "text/plain": [
       "array([[1.        , 0.05407381, 0.02837522, ..., 0.05407381, 0.07856742,\n",
       "        0.06085806],\n",
       "       [0.05407381, 1.        , 0.02761841, ..., 0.05263158, 0.07647191,\n",
       "        0.05923489],\n",
       "       [0.02837522, 0.02761841, 1.        , ..., 0.02761841, 0.04012862,\n",
       "        0.03108349],\n",
       "       ...,\n",
       "       [0.05407381, 0.05263158, 0.02761841, ..., 1.        , 0.22941573,\n",
       "        0.11846978],\n",
       "       [0.07856742, 0.07647191, 0.04012862, ..., 0.22941573, 1.        ,\n",
       "        0.0860663 ],\n",
       "       [0.06085806, 0.05923489, 0.03108349, ..., 0.11846978, 0.0860663 ,\n",
       "        1.        ]])"
      ]
     },
     "execution_count": 39,
     "metadata": {},
     "output_type": "execute_result"
    }
   ],
   "source": [
    "similarity = cosine_similarity(vector)\n",
    "similarity"
   ]
  },
  {
   "cell_type": "code",
   "execution_count": 40,
   "metadata": {},
   "outputs": [],
   "source": [
    "def recommend(movie):\n",
    "    index = final_data[final_data['title'] == movie].index[0]\n",
    "    distances = sorted(list(enumerate(similarity[index])),reverse=True,key = lambda x: x[1])\n",
    "    for i in distances[1:6]:\n",
    "        print(final_data.iloc[i[0]].title)"
   ]
  },
  {
   "cell_type": "code",
   "execution_count": 43,
   "metadata": {},
   "outputs": [
    {
     "name": "stdout",
     "output_type": "stream",
     "text": [
      "Humpty Sharma Ki Dulhania\n",
      "Ante... Sundaraniki!\n",
      "Sweet Tooth\n",
      "Shimla Mirchi\n",
      "Kiss of Life\n"
     ]
    }
   ],
   "source": [
    "recommend('Half Girlfriend')"
   ]
  },
  {
   "cell_type": "code",
   "execution_count": 44,
   "metadata": {},
   "outputs": [],
   "source": [
    "import pickle"
   ]
  },
  {
   "cell_type": "code",
   "execution_count": 46,
   "metadata": {},
   "outputs": [],
   "source": [
    "pickle.dump(final_data, open('movies_list.pkl', 'wb'))"
   ]
  },
  {
   "cell_type": "code",
   "execution_count": 50,
   "metadata": {},
   "outputs": [],
   "source": [
    "pickle.dump(similarity, open('similarity.pkl', 'wb'))"
   ]
  },
  {
   "cell_type": "code",
   "execution_count": 49,
   "metadata": {},
   "outputs": [
    {
     "data": {
      "text/html": [
       "<div>\n",
       "<style scoped>\n",
       "    .dataframe tbody tr th:only-of-type {\n",
       "        vertical-align: middle;\n",
       "    }\n",
       "\n",
       "    .dataframe tbody tr th {\n",
       "        vertical-align: top;\n",
       "    }\n",
       "\n",
       "    .dataframe thead th {\n",
       "        text-align: right;\n",
       "    }\n",
       "</style>\n",
       "<table border=\"1\" class=\"dataframe\">\n",
       "  <thead>\n",
       "    <tr style=\"text-align: right;\">\n",
       "      <th></th>\n",
       "      <th>id</th>\n",
       "      <th>title</th>\n",
       "      <th>tags</th>\n",
       "    </tr>\n",
       "  </thead>\n",
       "  <tbody>\n",
       "    <tr>\n",
       "      <th>0</th>\n",
       "      <td>tm84618</td>\n",
       "      <td>Taxi Driver</td>\n",
       "      <td>MOVIE A mentally unstable Vietnam War veteran ...</td>\n",
       "    </tr>\n",
       "    <tr>\n",
       "      <th>1</th>\n",
       "      <td>tm154986</td>\n",
       "      <td>Deliverance</td>\n",
       "      <td>MOVIE Intent on seeing the Cahulawassee River ...</td>\n",
       "    </tr>\n",
       "    <tr>\n",
       "      <th>2</th>\n",
       "      <td>tm127384</td>\n",
       "      <td>Monty Python and the Holy Grail</td>\n",
       "      <td>MOVIE King Arthur, accompanied by his squire, ...</td>\n",
       "    </tr>\n",
       "    <tr>\n",
       "      <th>3</th>\n",
       "      <td>tm120801</td>\n",
       "      <td>The Dirty Dozen</td>\n",
       "      <td>MOVIE 12 American military prisoners in World ...</td>\n",
       "    </tr>\n",
       "    <tr>\n",
       "      <th>4</th>\n",
       "      <td>ts22164</td>\n",
       "      <td>Monty Python's Flying Circus</td>\n",
       "      <td>SHOW A British sketch comedy series with the s...</td>\n",
       "    </tr>\n",
       "    <tr>\n",
       "      <th>...</th>\n",
       "      <td>...</td>\n",
       "      <td>...</td>\n",
       "      <td>...</td>\n",
       "    </tr>\n",
       "    <tr>\n",
       "      <th>5484</th>\n",
       "      <td>tm1216735</td>\n",
       "      <td>Sun of the Soil</td>\n",
       "      <td>MOVIE In 14th-century Mali, an ambitious young...</td>\n",
       "    </tr>\n",
       "    <tr>\n",
       "      <th>5485</th>\n",
       "      <td>tm985215</td>\n",
       "      <td>Princess 'Daya'Reese</td>\n",
       "      <td>MOVIE Reese is a con artist from Manila who dr...</td>\n",
       "    </tr>\n",
       "    <tr>\n",
       "      <th>5486</th>\n",
       "      <td>tm1097142</td>\n",
       "      <td>My Bride</td>\n",
       "      <td>MOVIE The story follows a young man and woman ...</td>\n",
       "    </tr>\n",
       "    <tr>\n",
       "      <th>5487</th>\n",
       "      <td>tm1014599</td>\n",
       "      <td>Fine Wine</td>\n",
       "      <td>MOVIE A beautiful love story that can happen b...</td>\n",
       "    </tr>\n",
       "    <tr>\n",
       "      <th>5488</th>\n",
       "      <td>tm1059008</td>\n",
       "      <td>Lokillo</td>\n",
       "      <td>MOVIE A controversial TV host and comedian who...</td>\n",
       "    </tr>\n",
       "  </tbody>\n",
       "</table>\n",
       "<p>5489 rows × 3 columns</p>\n",
       "</div>"
      ],
      "text/plain": [
       "             id                            title   \n",
       "0       tm84618                      Taxi Driver  \\\n",
       "1      tm154986                      Deliverance   \n",
       "2      tm127384  Monty Python and the Holy Grail   \n",
       "3      tm120801                  The Dirty Dozen   \n",
       "4       ts22164     Monty Python's Flying Circus   \n",
       "...         ...                              ...   \n",
       "5484  tm1216735                  Sun of the Soil   \n",
       "5485   tm985215             Princess 'Daya'Reese   \n",
       "5486  tm1097142                         My Bride   \n",
       "5487  tm1014599                        Fine Wine   \n",
       "5488  tm1059008                          Lokillo   \n",
       "\n",
       "                                                   tags  \n",
       "0     MOVIE A mentally unstable Vietnam War veteran ...  \n",
       "1     MOVIE Intent on seeing the Cahulawassee River ...  \n",
       "2     MOVIE King Arthur, accompanied by his squire, ...  \n",
       "3     MOVIE 12 American military prisoners in World ...  \n",
       "4     SHOW A British sketch comedy series with the s...  \n",
       "...                                                 ...  \n",
       "5484  MOVIE In 14th-century Mali, an ambitious young...  \n",
       "5485  MOVIE Reese is a con artist from Manila who dr...  \n",
       "5486  MOVIE The story follows a young man and woman ...  \n",
       "5487  MOVIE A beautiful love story that can happen b...  \n",
       "5488  MOVIE A controversial TV host and comedian who...  \n",
       "\n",
       "[5489 rows x 3 columns]"
      ]
     },
     "execution_count": 49,
     "metadata": {},
     "output_type": "execute_result"
    }
   ],
   "source": [
    "pickle.load(open('movies_list.pkl', 'rb'))"
   ]
  },
  {
   "cell_type": "code",
   "execution_count": null,
   "metadata": {},
   "outputs": [],
   "source": []
  }
 ],
 "metadata": {
  "kernelspec": {
   "display_name": "base",
   "language": "python",
   "name": "python3"
  },
  "language_info": {
   "codemirror_mode": {
    "name": "ipython",
    "version": 3
   },
   "file_extension": ".py",
   "mimetype": "text/x-python",
   "name": "python",
   "nbconvert_exporter": "python",
   "pygments_lexer": "ipython3",
   "version": "3.10.8"
  },
  "orig_nbformat": 4
 },
 "nbformat": 4,
 "nbformat_minor": 2
}
